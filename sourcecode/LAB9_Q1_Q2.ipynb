{
  "nbformat": 4,
  "nbformat_minor": 0,
  "metadata": {
    "colab": {
      "name": "LAB9_Q1_Q2.ipynb",
      "provenance": []
    },
    "kernelspec": {
      "name": "python3",
      "display_name": "Python 3"
    }
  },
  "cells": [
    {
      "cell_type": "markdown",
      "metadata": {
        "id": "j2zG9AIvPXbL"
      },
      "source": [
        "1. Plot the loss and accuracy for both training data and validation data using the history object in the source code."
      ]
    },
    {
      "cell_type": "code",
      "metadata": {
        "id": "27ONsrHrHSmO"
      },
      "source": [
        "from keras import Sequential \r\n",
        "from keras.datasets import mnist\r\n",
        "import numpy as np\r\n",
        "from keras.layers import Dense\r\n",
        "from keras.utils import to_categorical\r\n",
        "import matplotlib.pyplot as plt"
      ],
      "execution_count": null,
      "outputs": []
    },
    {
      "cell_type": "code",
      "metadata": {
        "colab": {
          "base_uri": "https://localhost:8080/"
        },
        "id": "hYgU9bqpH_Dr",
        "outputId": "91cab80b-b062-4bb8-8bcb-ffe502657a31"
      },
      "source": [
        "(train_images, train_labels), (test_images, test_labels) = mnist.load_data() #loading data"
      ],
      "execution_count": null,
      "outputs": [
        {
          "output_type": "stream",
          "text": [
            "Downloading data from https://storage.googleapis.com/tensorflow/tf-keras-datasets/mnist.npz\n",
            "11493376/11490434 [==============================] - 0s 0us/step\n"
          ],
          "name": "stdout"
        }
      ]
    },
    {
      "cell_type": "code",
      "metadata": {
        "colab": {
          "base_uri": "https://localhost:8080/"
        },
        "id": "17W2g5g5IH_D",
        "outputId": "eec58cb7-46f9-4dee-ea14-494cb37d2819"
      },
      "source": [
        "print(train_images.shape[1:]) #looking at the shape "
      ],
      "execution_count": null,
      "outputs": [
        {
          "output_type": "stream",
          "text": [
            "(28, 28)\n"
          ],
          "name": "stdout"
        }
      ]
    },
    {
      "cell_type": "code",
      "metadata": {
        "colab": {
          "base_uri": "https://localhost:8080/"
        },
        "id": "4pQgU85FIP1l",
        "outputId": "3e58cd3a-954a-4850-a499-cf06ad68ba89"
      },
      "source": [
        "#process the data\r\n",
        "#1. convert each image of shape 28*28 to 784 dimensional which will be fed to the network as a single feature\r\n",
        "dimData = np.prod(train_images.shape[1:])\r\n",
        "print(dimData)\r\n",
        "train_data = train_images.reshape(train_images.shape[0],dimData)\r\n",
        "test_data = test_images.reshape(test_images.shape[0],dimData)"
      ],
      "execution_count": null,
      "outputs": [
        {
          "output_type": "stream",
          "text": [
            "784\n"
          ],
          "name": "stdout"
        }
      ]
    },
    {
      "cell_type": "code",
      "metadata": {
        "id": "USNWVylGIwnZ"
      },
      "source": [
        "#convert data to float and scale values between 0 and 1\r\n",
        "train_data = train_data.astype('float')\r\n",
        "test_data = test_data.astype('float')\r\n",
        "#scale data\r\n",
        "train_data /= 255.0\r\n",
        "test_data /= 255.0\r\n",
        "#change the labels frominteger to one-hot encoding. to_categorical is doing the same thing as LabelEncoder()\r\n",
        "train_labels_one_hot = to_categorical(train_labels)\r\n",
        "test_labels_one_hot = to_categorical(test_labels)"
      ],
      "execution_count": null,
      "outputs": []
    },
    {
      "cell_type": "code",
      "metadata": {
        "colab": {
          "base_uri": "https://localhost:8080/"
        },
        "id": "gTMxxrhWZskR",
        "outputId": "b8e87b21-7d47-4f7c-e816-f7cf4fc31e4f"
      },
      "source": [
        "model = Sequential()\r\n",
        "model.add(Dense(512, activation='relu', input_shape=(dimData,)))\r\n",
        "model.add(Dense(512, activation='relu'))\r\n",
        "model.add(Dense(10, activation='softmax'))\r\n",
        "model.compile(optimizer='rmsprop', loss='categorical_crossentropy', metrics=['accuracy'])\r\n",
        "history = model.fit(train_data, train_labels_one_hot, batch_size=256, epochs=10, verbose=1,\r\n",
        "                   validation_data=(test_data, test_labels_one_hot))\r\n"
      ],
      "execution_count": null,
      "outputs": [
        {
          "output_type": "stream",
          "text": [
            "Epoch 1/10\n",
            "235/235 [==============================] - 8s 29ms/step - loss: 0.4835 - accuracy: 0.8440 - val_loss: 0.1152 - val_accuracy: 0.9643\n",
            "Epoch 2/10\n",
            "235/235 [==============================] - 6s 27ms/step - loss: 0.1024 - accuracy: 0.9690 - val_loss: 0.0959 - val_accuracy: 0.9707\n",
            "Epoch 3/10\n",
            "235/235 [==============================] - 6s 27ms/step - loss: 0.0590 - accuracy: 0.9811 - val_loss: 0.0975 - val_accuracy: 0.9739\n",
            "Epoch 4/10\n",
            "235/235 [==============================] - 6s 27ms/step - loss: 0.0392 - accuracy: 0.9881 - val_loss: 0.0649 - val_accuracy: 0.9813\n",
            "Epoch 5/10\n",
            "235/235 [==============================] - 6s 27ms/step - loss: 0.0256 - accuracy: 0.9918 - val_loss: 0.0751 - val_accuracy: 0.9788\n",
            "Epoch 6/10\n",
            "235/235 [==============================] - 6s 27ms/step - loss: 0.0203 - accuracy: 0.9932 - val_loss: 0.0770 - val_accuracy: 0.9814\n",
            "Epoch 7/10\n",
            "235/235 [==============================] - 6s 27ms/step - loss: 0.0151 - accuracy: 0.9955 - val_loss: 0.1054 - val_accuracy: 0.9772\n",
            "Epoch 8/10\n",
            "235/235 [==============================] - 6s 27ms/step - loss: 0.0124 - accuracy: 0.9960 - val_loss: 0.0952 - val_accuracy: 0.9786\n",
            "Epoch 9/10\n",
            "235/235 [==============================] - 6s 27ms/step - loss: 0.0108 - accuracy: 0.9964 - val_loss: 0.1122 - val_accuracy: 0.9785\n",
            "Epoch 10/10\n",
            "235/235 [==============================] - 6s 27ms/step - loss: 0.0078 - accuracy: 0.9972 - val_loss: 0.0947 - val_accuracy: 0.9836\n"
          ],
          "name": "stdout"
        }
      ]
    },
    {
      "cell_type": "code",
      "metadata": {
        "colab": {
          "base_uri": "https://localhost:8080/"
        },
        "id": "92b9MrL9MDuA",
        "outputId": "a47543a3-7965-426e-d02a-8aac4db28f6e"
      },
      "source": [
        "[test_loss, test_acc] = model.evaluate(test_data, test_labels_one_hot)\r\n",
        "print(\"Evaluation result on Test Data: Loss = {}, accuracy = {}\".format(test_loss, test_acc))"
      ],
      "execution_count": null,
      "outputs": [
        {
          "output_type": "stream",
          "text": [
            "313/313 [==============================] - 1s 3ms/step - loss: 0.0947 - accuracy: 0.9836\n",
            "Evaluation result on Test Data: Loss = 0.09473913908004761, accuracy = 0.9836000204086304\n"
          ],
          "name": "stdout"
        }
      ]
    },
    {
      "cell_type": "code",
      "metadata": {
        "id": "ZiA1k0X4KMry"
      },
      "source": [
        "def get_plot(history): #plot function \r\n",
        "#accuracy graph\r\n",
        "  plt.plot(history.history['accuracy']) \r\n",
        "  plt.plot(history.history['val_accuracy'])\r\n",
        "  plt.title('Model Accuracy')\r\n",
        "  plt.xlabel('epoch')\r\n",
        "  plt.ylabel('accuracy')\r\n",
        "  plt.legend(['train', 'test'], loc='upper left')\r\n",
        "  plt.show()\r\n",
        "\r\n",
        "#loss and valdation loss graph\r\n",
        "  plt.plot(history.history['loss'])\r\n",
        "  plt.plot(history.history['val_loss'])\r\n",
        "  plt.title('Model Loss')\r\n",
        "  plt.xlabel('epoch')\r\n",
        "  plt.ylabel('loss')\r\n",
        "  plt.legend(['train', 'test'], loc='upper left')\r\n",
        "  plt.show()"
      ],
      "execution_count": null,
      "outputs": []
    },
    {
      "cell_type": "code",
      "metadata": {
        "colab": {
          "base_uri": "https://localhost:8080/",
          "height": 573
        },
        "id": "6p1C6zDPLPSn",
        "outputId": "db4bf268-cecb-4e5f-ccae-d8f7621f27f4"
      },
      "source": [
        "get_plot(history)"
      ],
      "execution_count": null,
      "outputs": [
        {
          "output_type": "display_data",
          "data": {
            "image/png": "[encoded data removed]",
            "text/plain": [
              "<Figure size 432x288 with 1 Axes>"
            ]
          },
          "metadata": {
            "tags": [],
            "needs_background": "light"
          }
        },
        {
          "output_type": "display_data",
          "data": {
            "image/png": "[encoded data removed]",
            "text/plain": [
              "<Figure size 432x288 with 1 Axes>"
            ]
          },
          "metadata": {
            "tags": [],
            "needs_background": "light"
          }
        }
      ]
    },
    {
      "cell_type": "markdown",
      "metadata": {
        "id": "Wct36c0MPSyT"
      },
      "source": [
        "2. Plot one of the images in the test data, and then do inferencing to check what is the prediction of the model on that single image."
      ]
    },
    {
      "cell_type": "code",
      "metadata": {
        "colab": {
          "base_uri": "https://localhost:8080/",
          "height": 352
        },
        "id": "kmsnTEpyPizT",
        "outputId": "6af976d2-925a-42f7-a44e-90618e3cdede"
      },
      "source": [
        "get_class = model.predict_classes(test_data[0].reshape(1,784))\r\n",
        "plt.title(get_class[0])\r\n",
        "plt.imshow(test_data[0].reshape(28,28))"
      ],
      "execution_count": null,
      "outputs": [
        {
          "output_type": "stream",
          "text": [
            "/usr/local/lib/python3.7/dist-packages/tensorflow/python/keras/engine/sequential.py:450: UserWarning: `model.predict_classes()` is deprecated and will be removed after 2021-01-01. Please use instead:* `np.argmax(model.predict(x), axis=-1)`,   if your model does multi-class classification   (e.g. if it uses a `softmax` last-layer activation).* `(model.predict(x) > 0.5).astype(\"int32\")`,   if your model does binary classification   (e.g. if it uses a `sigmoid` last-layer activation).\n",
            "  warnings.warn('`model.predict_classes()` is deprecated and '\n"
          ],
          "name": "stderr"
        },
        {
          "output_type": "execute_result",
          "data": {
            "text/plain": [
              "<matplotlib.image.AxesImage at 0x7f35f33662d0>"
            ]
          },
          "metadata": {
            "tags": []
          },
          "execution_count": 13
        },
        {
          "output_type": "display_data",
          "data": {
            "image/png": "[encoded data removed]",
            "text/plain": [
              "<Figure size 432x288 with 1 Axes>"
            ]
          },
          "metadata": {
            "tags": [],
            "needs_background": "light"
          }
        }
      ]
    }
  ]
}